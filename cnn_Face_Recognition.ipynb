{
 "cells": [
  {
   "cell_type": "code",
   "execution_count": 26,
   "outputs": [],
   "source": [
    "import numpy as np\n",
    "import cv2\n",
    "import os\n",
    "import glob \n",
    "#img_dir zmenit podla toho kde sa nachadza dbs obrazkov\n",
    "img_dir = \"D:/school/BIO1/CelebA-small\" # Enter Directory of all images\n",
    "data_path = os.path.join(img_dir, '*g')\n",
    "files = glob.glob(data_path)\n",
    "name = \"\"\n",
    "data = {}\n",
    "\n",
    "for f1 in files[:5]:\n",
    "    #print(f1)\n",
    "    name = f1.split('\\\\')[1].strip()\n",
    "    img = cv2.imread(f1)\n",
    "    data[name] = img\n",
    " \n",
    "\n",
    "import re\n",
    "\n",
    "truth={}\n",
    "with open('list_bbox_celeba.txt', 'r') as f:\n",
    "    lines = f.readlines()[2:]    \n",
    "    # vymazanie whitespaces\n",
    "for line in lines:\n",
    "    line = re.sub(' +', ';', line[:-1])\n",
    "    truthpole=line.split(\";\")\n",
    "    truth[truthpole[0]] = list(map(int, truthpole[1:]))"
   ],
   "metadata": {
    "collapsed": false,
    "pycharm": {
     "name": "#%%\n",
     "is_executing": false
    }
   }
  },
  {
   "cell_type": "code",
   "execution_count": 29,
   "outputs": [],
   "source": [
    "import matplotlib.pyplot as plt\n",
    "import dlib \n",
    "import pandas as pd\n",
    "from skimage.feature import hog\n",
    "from collections import namedtuple\n",
    "hogFaceDetector = dlib.get_frontal_face_detector()\n",
    "cnn_face_detector = dlib.cnn_face_detection_model_v1('./mmod_human_face_detector.dat')\n",
    "evaluation_table_hog = []\n",
    "evaluation_table_cnn = []\n",
    "iou_table_hog = []\n",
    "iou_table_cnn = []\n",
    "\n",
    "for key in data:\n",
    "    img = data[key]  \n",
    "    truthBox = truth[key]\n",
    "    \n",
    "    faceRects = None\n",
    "    faceRects2 = None\n",
    "    x11 = y11 = x12 = y12 = 0\n",
    "    x21 = y21 = x22 = y22 = 0\n",
    "    faceRects = hogFaceDetector(img, 1)\n",
    "    faceRects2 = cnn_face_detector(img, 1)\n",
    "\n",
    "\n",
    "    for faceRect in faceRects:\n",
    "        x11 = faceRect.left()\n",
    "        y11 = faceRect.top()\n",
    "        x12 = faceRect.right()\n",
    "        y12 = faceRect.bottom()\n",
    "        \n",
    "        # draw box over face      \n",
    "        cv2.rectangle(img, (x11,y11), (x12,y12), (0,255,0), 2)\n",
    "\n",
    "    for faceRect2 in faceRects2:\n",
    "        x21 = faceRect2.rect.left()\n",
    "        y21 = faceRect2.rect.top()\n",
    "        x22 = faceRect2.rect.right()\n",
    "        y22 = faceRect2.rect.bottom()\n",
    "\n",
    "        #draw box over face\n",
    "        cv2.rectangle(img, (x21,y21), (x22,y22), (255,0,0), 2)\n",
    "   \n",
    "    # draw truth box\n",
    "    cv2.rectangle(img, (truthBox[0],truthBox[1]), (truthBox[0]+truthBox[2],truthBox[1]+truthBox[3]), (0,0,255), 2)\n",
    "    \n",
    "    #calc for hog\n",
    "    xAhog = max(x11, truthBox[0])\n",
    "    yAhog = max(y11, truthBox[1])\n",
    "    xBhog = min(x12, truthBox[0]+truthBox[2])\n",
    "    yBhog = min(y12, truthBox[1]+truthBox[3])    \n",
    "    \n",
    "    interAreaHog = max(0, xBhog - xAhog + 1) * max(0, yBhog - yAhog + 1)\n",
    "    \n",
    "    boxAreaHOG = (x12 - x11 + 1) * (y12 - y11 + 1)\n",
    "        \n",
    "    #calc for cnn\n",
    "    xAcnn = max(x21, truthBox[0])\n",
    "    yAcnn = max(y21, truthBox[1])\n",
    "    xBcnn = min(x22, truthBox[0]+truthBox[2])\n",
    "    yBcnn = min(y22, truthBox[1]+truthBox[3])    \n",
    "    \n",
    "    interAreaCNN = max(0, xBcnn - xAcnn + 1) * max(0, yBcnn - yAcnn + 1)\n",
    "    \n",
    "    boxAreaCNN = (x22 - x21 + 1) * (y22 - y21 + 1)\n",
    "    \n",
    "    boxTruth = (truthBox[2] + 1) * (truthBox[3] + 1)\n",
    "    \n",
    "    \n",
    "    if x11 == 0 and y11 == 0 and x12 == 0 and y12 == 0:\n",
    "        iouHOG = 0\n",
    "    else:\n",
    "        iouHOG = interAreaHog / float(boxAreaHOG + boxTruth - interAreaHog)\n",
    "        \n",
    "    if x21 == 0 and y21 == 0 and x22 == 0 and y22 == 0:\n",
    "        iouCNN = 0\n",
    "    else:\n",
    "        iouCNN = interAreaCNN / float(boxAreaCNN + boxTruth - interAreaCNN)\n",
    "        \n",
    "    if iouHOG >= 0.5:\n",
    "        evaluation_table_hog.append(\"TP\")\n",
    "    elif iouHOG != 0:\n",
    "        evaluation_table_hog.append(\"FP\")\n",
    "    else:\n",
    "        evaluation_table_hog.append(\"FN\")\n",
    "    \n",
    "    if iouCNN >= 0.5:     \n",
    "        evaluation_table_cnn.append(\"TP\")\n",
    "    elif iouCNN != 0:\n",
    "        evaluation_table_cnn.append(\"FP\")\n",
    "    else:\n",
    "        evaluation_table_cnn.append(\"FN\")\n",
    "    \n",
    "    iou_table_cnn.append(iouCNN)\n",
    "    iou_table_hog.append(iouHOG)\n",
    "    img_height, img_width = img.shape[:2]\n",
    "    cv2.putText(img, \"Truth\", (img_width-120,20), cv2.FONT_HERSHEY_SIMPLEX, 0.5, (0,0,255), 2)\n",
    "    cv2.putText(img, \"CNN\", (img_width-80,20), cv2.FONT_HERSHEY_SIMPLEX, 0.5, (255,0,0), 2)\n",
    "    cv2.putText(img, \"HOG\", (img_width-40,20), cv2.FONT_HERSHEY_SIMPLEX, 0.5, (0,255,0), 2) \n",
    "    cv2.putText(img, \"IoU HOG: {:.4f}\".format(iouHOG), (img_width-150, 40), cv2.FONT_HERSHEY_SIMPLEX, 0.5, (180, 180, 0), 2)\n",
    "    cv2.putText(img, \"IoU CNN: {:.4f}\".format(iouCNN), (img_width-150, 60), cv2.FONT_HERSHEY_SIMPLEX, 0.5, (255, 255, 0), 2)\n",
    "    cv2.imshow(\"face detection with dlib \" + key, img)\n",
    "    cv2.waitKey(500)\n",
    "    \n",
    "cv2.destroyAllWindows()"
   ],
   "metadata": {
    "collapsed": false,
    "pycharm": {
     "name": "#%%\n",
     "is_executing": false
    }
   }
  },
  {
   "cell_type": "code",
   "execution_count": 9,
   "outputs": [],
   "source": [
    "import pandas as pd\n",
    "iouulozHog= pd.DataFrame()\n",
    "iouulozCNN = pd.DataFrame()\n",
    "iouulozHog[\"iouHog\"]= iou_table_hog\n",
    "iouulozCNN[\"iouCNN\"]= iou_table_cnn\n",
    "iouulozHog[\"evaltable\"] = evaluation_table_hog\n",
    "iouulozCNN[\"evaltableCNN\"] = evaluation_table_cnn\n",
    "iouulozCNN.to_csv(\"iouulozCNN.csv\")\n",
    "iouulozHog.to_csv(\"iouulozHog.csv\")"
   ],
   "metadata": {
    "collapsed": false,
    "pycharm": {
     "name": "#%%\n",
     "is_executing": false
    }
   }
  },
  {
   "cell_type": "code",
   "execution_count": 20,
   "outputs": [],
   "source": [
    "precisionHOG = []\n",
    "recallHOG = []\n",
    "precisionCNN = []\n",
    "recallCNN = []\n",
    "TPHog=FPHog=FNHog=0\n",
    "TPCNN=FPCNN=FNCNN=0\n",
    "\n",
    "FNHog = sum(1 for i in evaluation_table_hog if i == \"FN\") \n",
    "FNCNN = sum(1 for i in evaluation_table_cnn if i == \"FN\") \n",
    "\n",
    "for i in range(len(iou_table_hog)):     \n",
    "    \n",
    "    if iou_table_hog[i] > 0.5:\n",
    "        TPHog =TPHog+1\n",
    "    else:\n",
    "        FPHog =FPHog+1    \n",
    "        \n",
    "    if iou_table_cnn[i] > 0.5:\n",
    "        TPCNN = TPCNN+1\n",
    "    else:\n",
    "        FPCNN =FPCNN+1   \n",
    "    \n",
    "    try:\n",
    "        APHOG = TPHog/(TPHog+FPHog)\n",
    "        RecHOG = TPHog/(TPHog+FNHog)        \n",
    "    except ZeroDivisionError:\n",
    "        APHOG = RecHOG = 0.0\n",
    "        \n",
    "    try:\n",
    "        APCNN = TPCNN/(TPCNN+FPCNN)\n",
    "        RecCNN =TPCNN/(TPCNN+FNCNN) \n",
    "    except ZeroDivisionError:\n",
    "        APCNN = RecCNN = 0.0\n",
    "    \n",
    "    precisionHOG.append(APHOG)\n",
    "    precisionCNN.append(APCNN)\n",
    "    recallHOG.append(RecHOG)\n",
    "    recallCNN.append(RecCNN)"
   ],
   "metadata": {
    "collapsed": false,
    "pycharm": {
     "name": "#%%\n",
     "is_executing": false
    }
   }
  },
  {
   "cell_type": "code",
   "execution_count": 21,
   "outputs": [],
   "source": [
    "dataframeHog=pd.DataFrame()\n",
    "dataframeCNN=pd.DataFrame()\n",
    "\n",
    "dataframeHog[\"precision\"]=precisionHOG\n",
    "dataframeHog[\"recall\"]=recallHOG\n",
    "dataframeCNN[\"precision\"]=precisionCNN\n",
    "dataframeCNN[\"recall\"]=recallCNN\n",
    "\n",
    "dataframeHog['IntPrec'] = dataframeHog.groupby('recall')['precision'].transform('max')\n",
    "dataframeCNN['IntPrec'] = dataframeCNN.groupby('recall')['precision'].transform('max')\n",
    "\n",
    "\n",
    "dataframeHog.to_csv('dataHog.csv')\n",
    "dataframeCNN.to_csv('dataCNN.csv')"
   ],
   "metadata": {
    "collapsed": false,
    "pycharm": {
     "name": "#%%\n",
     "is_executing": false
    }
   }
  },
  {
   "cell_type": "code",
   "execution_count": 22,
   "outputs": [
    {
     "data": {
      "text/plain": "<Figure size 432x288 with 1 Axes>",
      "image/png": "[encoded data removed]"
     },
     "metadata": {
      "needs_background": "light"
     },
     "output_type": "display_data"
    },
    {
     "data": {
      "text/plain": "<Figure size 432x288 with 1 Axes>",
      "image/png": "[encoded data removed]"
     },
     "metadata": {
      "needs_background": "light"
     },
     "output_type": "display_data"
    }
   ],
   "source": [
    "import matplotlib.pyplot as plt \n",
    "displayHog = []\n",
    "for i in range(len(dataframeHog['IntPrec'])):\n",
    "    displayHog.append(max(dataframeHog['IntPrec'][i:]))\n",
    "\n",
    "dataframeHog['IntDisplay'] = displayHog\n",
    "\n",
    "displayCNN = []\n",
    "for i in range(len(dataframeCNN['IntPrec'])):\n",
    "    displayCNN.append(max(dataframeCNN['IntPrec'][i:]))\n",
    "\n",
    "dataframeCNN['IntDisplay'] = displayCNN\n",
    "\n",
    "plt.plot(dataframeCNN['recall'],dataframeCNN['precision'],'r')\n",
    "plt.plot(dataframeCNN['recall'],dataframeCNN['IntDisplay'],'g')\n",
    "plt.xlabel('recall') \n",
    "plt.ylabel('precision/interpolated precision') \n",
    "plt.title('CNN precision recall krivka') \n",
    "plt.show()\n",
    "\n",
    "dataframeHog['IntDisplay'] = displayHog\n",
    "plt.plot(dataframeHog['recall'],dataframeHog['precision'],'r')\n",
    "plt.plot(dataframeHog['recall'],dataframeHog['IntDisplay'],'g')\n",
    "plt.xlabel('recall') \n",
    "plt.ylabel('precision/interpolated precision') \n",
    "plt.title('HOG precision recall krivka') \n",
    "plt.show()"
   ],
   "metadata": {
    "collapsed": false,
    "pycharm": {
     "name": "#%%\n",
     "is_executing": false
    }
   }
  },
  {
   "cell_type": "code",
   "execution_count": 23,
   "outputs": [
    {
     "name": "stdout",
     "text": [
      "11 point precision is  [1.0, 1.0, 0.7777777777777778, 0.7407407407407407, 0.7407407407407407, 0.6666666666666666, 0.6515151515151515, 0.626984126984127, 0.6197916666666666, 0.6082474226804123, 0.0]\nmAP for Hog is  0.6756785721611167\n11 point precision is  [1.0, 1.0, 1.0, 1.0, 1.0, 0.8333333333333334, 0.7777777777777778, 0.6666666666666666, 0.6666666666666666, 0.5294117647058824, 0.0]\nmAP for CNN is  0.7703505644682115\n"
     ],
     "output_type": "stream"
    }
   ],
   "source": [
    "precRecHog = []\n",
    "\n",
    "for recall_level in np.linspace(0.0, 1.0, 11):\n",
    "    try:\n",
    "        x = dataframeHog[dataframeHog['recall'] >= recall_level]['IntPrec']\n",
    "        prec = max(x)\n",
    "    except:\n",
    "        prec = 0.0\n",
    "    precRecHog.append(prec)\n",
    "avg_prec = np.mean(precRecHog)\n",
    "print('11 point precision is ', precRecHog)\n",
    "print('mAP for Hog is ', avg_prec)\n",
    "\n",
    "precRecCNN = []\n",
    "\n",
    "for recall_level2 in np.linspace(0.0, 1.0, 11):\n",
    "    try:\n",
    "        x = dataframeCNN[dataframeCNN['recall'] >= recall_level2]['IntPrec']\n",
    "        precCNN = max(x)\n",
    "    except:\n",
    "        precCNN = 0.0\n",
    "    precRecCNN.append(precCNN)\n",
    "avg_prec = np.mean(precRecCNN)\n",
    "print('11 point precision is ', precRecCNN)\n",
    "print('mAP for CNN is ', avg_prec)"
   ],
   "metadata": {
    "collapsed": false,
    "pycharm": {
     "name": "#%%\n",
     "is_executing": false
    }
   }
  },
  {
   "cell_type": "code",
   "execution_count": null,
   "outputs": [],
   "source": [
    "#============================================================================\n",
    "# tuto celu spustit v pripade ze sa vsetko dodrbe v csv su ulozene dataframes\n",
    "dataframeCNN = pd.read_csv('dataCNN.csv')  \n",
    "dataframeHog = pd.read_csv('dataHog.csv')\n",
    "#============================================================================   "
   ],
   "metadata": {
    "collapsed": false,
    "pycharm": {
     "name": "#%%\n"
    }
   }
  },
  {
   "cell_type": "code",
   "execution_count": 24,
   "outputs": [],
   "source": [
    "import re\n",
    "predicted={}\n",
    "with open('list_landmarks_celeba.txt', 'r') as f:\n",
    "    lines = f.readlines()[2:]  \n",
    "\n",
    "for line in lines:\n",
    "    line = re.sub(' +', ';', line[:-1])\n",
    "    predictedPole =line.split(\";\")\n",
    "    predicted[predictedPole[0]] = list(map(int, predictedPole[1:]))\n",
    "    "
   ],
   "metadata": {
    "collapsed": false,
    "pycharm": {
     "name": "#%%\n",
     "is_executing": false
    }
   }
  },
  {
   "cell_type": "code",
   "execution_count": 25,
   "outputs": [],
   "source": [
    "from itertools import islice\n",
    "desiredLeftEye=(0.38, 0.38)\n",
    "\n",
    "for key in data:\n",
    "    img = data[key]  \n",
    "    coordinates = predicted[key]\n",
    "    leftEyeX,leftEyeY = coordinates[0],coordinates[1]\n",
    "    rightEyeX,rightEyeY =coordinates[2],coordinates[3]\n",
    "    \n",
    "    dY = rightEyeY - leftEyeY\n",
    "    dX = rightEyeX - leftEyeX\n",
    "    \n",
    "    angle = np.degrees(np.arctan2(dY, dX))\n",
    "    desiredRightEyeX = 1.0 - desiredLeftEye[0]\n",
    "    dist = np.sqrt((dX ** 2) + (dY ** 2))\n",
    "    desiredDist = (desiredRightEyeX - desiredLeftEye[0])\n",
    "    desiredDist *= 300 #256pixelov\n",
    "    scale = desiredDist / dist\n",
    "    eyesCenter = ((leftEyeX + rightEyeX) // 2,(leftEyeY + rightEyeY) // 2)\n",
    "    M = cv2.getRotationMatrix2D(eyesCenter, angle, scale)\n",
    "    tX = 300 * 0.5\n",
    "    tY = 300 * desiredLeftEye[1]\n",
    "    M[0, 2] += (tX - eyesCenter[0])\n",
    "    M[1, 2] += (tY - eyesCenter[1])\n",
    "    (w, h) = (300, 300)\n",
    "    output = cv2.warpAffine(img, M, (w, h),flags=cv2.INTER_CUBIC)\n",
    "    cv2.imshow(\"Original\", img)\n",
    "    cv2.imshow(\"Aligned\", output)\n",
    "    cv2.waitKey(0)\n",
    "    \n",
    "cv2.destroyAllWindows()"
   ],
   "metadata": {
    "collapsed": false,
    "pycharm": {
     "name": "#%%\n",
     "is_executing": false
    }
   }
  },
  {
   "cell_type": "code",
   "execution_count": null,
   "outputs": [],
   "source": [
    "import sys\n",
    "import dlib\n",
    "import cv2\n",
    "\n",
    "detector = dlib.get_frontal_face_detector()\n",
    "cnn_detector = dlib.cnn_face_detection_model_v1('./mmod_human_face_detector.dat')\n",
    "\n",
    "cam = cv2.VideoCapture(0)\n",
    "\n",
    "while True:\n",
    "    ret_val, img = cam.read()\n",
    "    rgb_image = cv2.cvtColor(img, cv2.COLOR_BGR2RGB)\n",
    "    detsHog = detector(rgb_image, 1)\n",
    "    detsCNN = cnn_detector(rgb_image, 1)\n",
    "    for det in detsHog:\n",
    "        cv2.rectangle(img,(det.left(), det.top()), (det.right(), det.bottom()), (0,255,0), 2)\n",
    "    for det in detsCNN:\n",
    "        cv2.rectangle(img,(det.rect.left(), det.rect.top()), (det.rect.right(), det.rect.bottom()), (255,0,0), 2)\n",
    "    cv2.imshow('my webcam', img)\n",
    "    if cv2.waitKey(1) == 27:\n",
    "        break  # esc to quit\n",
    "cv2.destroyAllWindows()"
   ],
   "metadata": {
    "collapsed": false,
    "pycharm": {
     "name": "#%%\n",
     "is_executing": true
    }
   }
  }
 ],
 "metadata": {
  "kernelspec": {
   "display_name": "Python 3",
   "language": "python",
   "name": "python3"
  },
  "language_info": {
   "codemirror_mode": {
    "name": "ipython",
    "version": 2
   },
   "file_extension": ".py",
   "mimetype": "text/x-python",
   "name": "python",
   "nbconvert_exporter": "python",
   "pygments_lexer": "ipython2",
   "version": "2.7.6"
  },
  "pycharm": {
   "stem_cell": {
    "cell_type": "raw",
    "source": [],
    "metadata": {
     "collapsed": false
    }
   }
  }
 },
 "nbformat": 4,
 "nbformat_minor": 0
}